{
 "cells": [
  {
   "cell_type": "code",
   "execution_count": 1,
   "metadata": {},
   "outputs": [],
   "source": [
    "import mediapipe as mp\n",
    "import pandas as pd\n",
    "import numpy as np\n",
    "import tensorflow as tf\n",
    "import matplotlib.pyplot as plt\n",
    "import cv2\n",
    "import time as t\n",
    "from djitellopy import Tello\n",
    "import threading"
   ]
  },
  {
   "cell_type": "code",
   "execution_count": 2,
   "metadata": {},
   "outputs": [],
   "source": [
    "path = r\"C:\\Users\\Luis\\OneDrive\\Desktop\\Maturaarbeit\\codingMA\\Mediapipe\\model1.h5\"\n",
    "\n",
    "model = tf.keras.models.load_model(path)\n",
    "\n",
    "tello_img = r\"C:\\Users\\Luis\\OneDrive\\Desktop\\Maturaarbeit\\Tello\\Tello_pictures\\ \"\n",
    "num_pic = 0\n",
    "cam_res = (640, 480)\n",
    "\n",
    "signs = [\"right\", \"left\", \"up\", \"down\", \"fist\", \"hand\", \"V\"]\n",
    "\n",
    "mp_hands = mp.solutions.hands\n",
    "hands = mp_hands.Hands(max_num_hands=1, min_detection_confidence=0.5, min_tracking_confidence=0.05)\n",
    "drawingModule = mp.solutions.drawing_utils\n",
    "\n",
    "def get_sign(frame):\n",
    "    results = hands.process(frame)\n",
    "        \n",
    "    if results.multi_hand_landmarks: \n",
    "        points = []\n",
    "        for handLandmarks in results.multi_hand_landmarks:\n",
    "            for landmark in handLandmarks.landmark:\n",
    "                x, y, z = landmark.x, landmark.y, landmark.z\n",
    "                points.append(x)\n",
    "                points.append(y)\n",
    "                points.append(z)\n",
    "            drawingModule.draw_landmarks(frame, handLandmarks, mp_hands.HAND_CONNECTIONS)\n",
    "        \n",
    "        return True, np.array(points)\n",
    "       \n",
    "    else: \n",
    "        return False, 0\n"
   ]
  },
  {
   "cell_type": "code",
   "execution_count": 3,
   "metadata": {},
   "outputs": [
    {
     "name": "stderr",
     "output_type": "stream",
     "text": [
      "[INFO] tello.py - 129 - Tello instance was initialized. Host: '192.168.10.1'. Port: '8889'.\n",
      "[INFO] tello.py - 438 - Send command: 'command'\n",
      "[INFO] tello.py - 462 - Response command: 'ok'\n",
      "[INFO] tello.py - 438 - Send command: 'streamon'\n"
     ]
    },
    {
     "name": "stdout",
     "output_type": "stream",
     "text": [
      "Temperature: 19°C\n",
      "Battery: 27%\n"
     ]
    },
    {
     "name": "stderr",
     "output_type": "stream",
     "text": [
      "[INFO] tello.py - 462 - Response streamon: 'ok'\n"
     ]
    }
   ],
   "source": [
    "tello = Tello()\n",
    "tello.connect()\n",
    "\n",
    "print(\"Temperature: \"+str(round((tello.get_temperature() -32 )* 5/9)) + \"°C\") \n",
    "print(\"Battery: \"+ str(tello.get_battery()) + \"%\")\n",
    "#\n",
    "tello.streamon()\n",
    "frame_read = tello.get_frame_read()\n"
   ]
  },
  {
   "cell_type": "markdown",
   "metadata": {},
   "source": [
    "Nr. 1 (without Threading)"
   ]
  },
  {
   "cell_type": "code",
   "execution_count": 4,
   "metadata": {},
   "outputs": [],
   "source": [
    "vc = cv2.VideoCapture(0)\n",
    "cv2.namedWindow(\"img\")"
   ]
  },
  {
   "cell_type": "code",
   "execution_count": 97,
   "metadata": {},
   "outputs": [
    {
     "name": "stderr",
     "output_type": "stream",
     "text": [
      "[INFO] tello.py - 438 - Send command: 'streamoff'\n",
      "[INFO] tello.py - 462 - Response streamoff: 'ok'\n",
      "[INFO] tello.py - 471 - Send command (no response expected): 'reboot'\n"
     ]
    }
   ],
   "source": [
    "tello.end()\n",
    "tello.reboot()"
   ]
  },
  {
   "cell_type": "markdown",
   "metadata": {},
   "source": [
    "threading doesnt work with cv2.imshow"
   ]
  },
  {
   "cell_type": "code",
   "execution_count": 5,
   "metadata": {},
   "outputs": [
    {
     "name": "stderr",
     "output_type": "stream",
     "text": [
      "[INFO] tello.py - 438 - Send command: 'takeoff'\n",
      "[INFO] tello.py - 462 - Response takeoff: 'ok'\n",
      "[INFO] tello.py - 438 - Send command: 'cw 10'\n",
      "[INFO] tello.py - 462 - Response cw 10: 'ok'\n",
      "[INFO] tello.py - 438 - Send command: 'forward 10'\n",
      "[INFO] tello.py - 462 - Response forward 10: 'out of range'\n",
      "[INFO] tello.py - 438 - Send command: 'forward 10'\n",
      "[INFO] tello.py - 462 - Response forward 10: 'out of range'\n",
      "[INFO] tello.py - 438 - Send command: 'forward 10'\n",
      "[INFO] tello.py - 462 - Response forward 10: 'out of range'\n"
     ]
    },
    {
     "ename": "TelloException",
     "evalue": "Command 'forward 10' was unsuccessful for 4 tries. Latest response:\t'out of range'",
     "output_type": "error",
     "traceback": [
      "\u001b[1;31m---------------------------------------------------------------------------\u001b[0m",
      "\u001b[1;31mTelloException\u001b[0m                            Traceback (most recent call last)",
      "Cell \u001b[1;32mIn[5], line 36\u001b[0m\n\u001b[0;32m     33\u001b[0m     tello\u001b[38;5;241m.\u001b[39mmove_down(\u001b[38;5;241m10\u001b[39m)\n\u001b[0;32m     35\u001b[0m \u001b[38;5;28;01melif\u001b[39;00m res \u001b[38;5;241m==\u001b[39m \u001b[38;5;241m4\u001b[39m: \u001b[38;5;66;03m# fist = vorne\u001b[39;00m\n\u001b[1;32m---> 36\u001b[0m     \u001b[43mtello\u001b[49m\u001b[38;5;241;43m.\u001b[39;49m\u001b[43mmove_forward\u001b[49m\u001b[43m(\u001b[49m\u001b[38;5;241;43m10\u001b[39;49m\u001b[43m)\u001b[49m\n\u001b[0;32m     38\u001b[0m \u001b[38;5;28;01melif\u001b[39;00m res \u001b[38;5;241m==\u001b[39m \u001b[38;5;241m5\u001b[39m: \u001b[38;5;66;03m# hand = rückwerts\u001b[39;00m\n\u001b[0;32m     39\u001b[0m     tello\u001b[38;5;241m.\u001b[39mmove_back(\u001b[38;5;241m10\u001b[39m)\n",
      "File \u001b[1;32mc:\\Users\\Luis\\AppData\\Local\\Programs\\Python\\Python310\\lib\\site-packages\\djitellopy\\enforce_types.py:54\u001b[0m, in \u001b[0;36menforce_types.<locals>.decorate.<locals>.wrapper\u001b[1;34m(*args, **kwargs)\u001b[0m\n\u001b[0;32m     51\u001b[0m \u001b[38;5;129m@wraps\u001b[39m(func)\n\u001b[0;32m     52\u001b[0m \u001b[38;5;28;01mdef\u001b[39;00m \u001b[38;5;21mwrapper\u001b[39m(\u001b[38;5;241m*\u001b[39margs, \u001b[38;5;241m*\u001b[39m\u001b[38;5;241m*\u001b[39mkwargs):\n\u001b[0;32m     53\u001b[0m     check_types(spec, \u001b[38;5;241m*\u001b[39margs, \u001b[38;5;241m*\u001b[39m\u001b[38;5;241m*\u001b[39mkwargs)\n\u001b[1;32m---> 54\u001b[0m     \u001b[38;5;28;01mreturn\u001b[39;00m func(\u001b[38;5;241m*\u001b[39margs, \u001b[38;5;241m*\u001b[39m\u001b[38;5;241m*\u001b[39mkwargs)\n",
      "File \u001b[1;32mc:\\Users\\Luis\\AppData\\Local\\Programs\\Python\\Python310\\lib\\site-packages\\djitellopy\\tello.py:656\u001b[0m, in \u001b[0;36mTello.move_forward\u001b[1;34m(self, x)\u001b[0m\n\u001b[0;32m    651\u001b[0m \u001b[38;5;28;01mdef\u001b[39;00m \u001b[38;5;21mmove_forward\u001b[39m(\u001b[38;5;28mself\u001b[39m, x: \u001b[38;5;28mint\u001b[39m):\n\u001b[0;32m    652\u001b[0m \u001b[38;5;250m    \u001b[39m\u001b[38;5;124;03m\"\"\"Fly x cm forward.\u001b[39;00m\n\u001b[0;32m    653\u001b[0m \u001b[38;5;124;03m    Arguments:\u001b[39;00m\n\u001b[0;32m    654\u001b[0m \u001b[38;5;124;03m        x: 20-500\u001b[39;00m\n\u001b[0;32m    655\u001b[0m \u001b[38;5;124;03m    \"\"\"\u001b[39;00m\n\u001b[1;32m--> 656\u001b[0m     \u001b[38;5;28;43mself\u001b[39;49m\u001b[38;5;241;43m.\u001b[39;49m\u001b[43mmove\u001b[49m\u001b[43m(\u001b[49m\u001b[38;5;124;43m\"\u001b[39;49m\u001b[38;5;124;43mforward\u001b[39;49m\u001b[38;5;124;43m\"\u001b[39;49m\u001b[43m,\u001b[49m\u001b[43m \u001b[49m\u001b[43mx\u001b[49m\u001b[43m)\u001b[49m\n",
      "File \u001b[1;32mc:\\Users\\Luis\\AppData\\Local\\Programs\\Python\\Python310\\lib\\site-packages\\djitellopy\\enforce_types.py:54\u001b[0m, in \u001b[0;36menforce_types.<locals>.decorate.<locals>.wrapper\u001b[1;34m(*args, **kwargs)\u001b[0m\n\u001b[0;32m     51\u001b[0m \u001b[38;5;129m@wraps\u001b[39m(func)\n\u001b[0;32m     52\u001b[0m \u001b[38;5;28;01mdef\u001b[39;00m \u001b[38;5;21mwrapper\u001b[39m(\u001b[38;5;241m*\u001b[39margs, \u001b[38;5;241m*\u001b[39m\u001b[38;5;241m*\u001b[39mkwargs):\n\u001b[0;32m     53\u001b[0m     check_types(spec, \u001b[38;5;241m*\u001b[39margs, \u001b[38;5;241m*\u001b[39m\u001b[38;5;241m*\u001b[39mkwargs)\n\u001b[1;32m---> 54\u001b[0m     \u001b[38;5;28;01mreturn\u001b[39;00m func(\u001b[38;5;241m*\u001b[39margs, \u001b[38;5;241m*\u001b[39m\u001b[38;5;241m*\u001b[39mkwargs)\n",
      "File \u001b[1;32mc:\\Users\\Luis\\AppData\\Local\\Programs\\Python\\Python310\\lib\\site-packages\\djitellopy\\tello.py:621\u001b[0m, in \u001b[0;36mTello.move\u001b[1;34m(self, direction, x)\u001b[0m\n\u001b[0;32m    614\u001b[0m \u001b[38;5;28;01mdef\u001b[39;00m \u001b[38;5;21mmove\u001b[39m(\u001b[38;5;28mself\u001b[39m, direction: \u001b[38;5;28mstr\u001b[39m, x: \u001b[38;5;28mint\u001b[39m):\n\u001b[0;32m    615\u001b[0m \u001b[38;5;250m    \u001b[39m\u001b[38;5;124;03m\"\"\"Tello fly up, down, left, right, forward or back with distance x cm.\u001b[39;00m\n\u001b[0;32m    616\u001b[0m \u001b[38;5;124;03m    Users would normally call one of the move_x functions instead.\u001b[39;00m\n\u001b[0;32m    617\u001b[0m \u001b[38;5;124;03m    Arguments:\u001b[39;00m\n\u001b[0;32m    618\u001b[0m \u001b[38;5;124;03m        direction: up, down, left, right, forward or back\u001b[39;00m\n\u001b[0;32m    619\u001b[0m \u001b[38;5;124;03m        x: 20-500\u001b[39;00m\n\u001b[0;32m    620\u001b[0m \u001b[38;5;124;03m    \"\"\"\u001b[39;00m\n\u001b[1;32m--> 621\u001b[0m     \u001b[38;5;28;43mself\u001b[39;49m\u001b[38;5;241;43m.\u001b[39;49m\u001b[43msend_control_command\u001b[49m\u001b[43m(\u001b[49m\u001b[38;5;124;43m\"\u001b[39;49m\u001b[38;5;132;43;01m{}\u001b[39;49;00m\u001b[38;5;124;43m \u001b[39;49m\u001b[38;5;132;43;01m{}\u001b[39;49;00m\u001b[38;5;124;43m\"\u001b[39;49m\u001b[38;5;241;43m.\u001b[39;49m\u001b[43mformat\u001b[49m\u001b[43m(\u001b[49m\u001b[43mdirection\u001b[49m\u001b[43m,\u001b[49m\u001b[43m \u001b[49m\u001b[43mx\u001b[49m\u001b[43m)\u001b[49m\u001b[43m)\u001b[49m\n",
      "File \u001b[1;32mc:\\Users\\Luis\\AppData\\Local\\Programs\\Python\\Python310\\lib\\site-packages\\djitellopy\\enforce_types.py:54\u001b[0m, in \u001b[0;36menforce_types.<locals>.decorate.<locals>.wrapper\u001b[1;34m(*args, **kwargs)\u001b[0m\n\u001b[0;32m     51\u001b[0m \u001b[38;5;129m@wraps\u001b[39m(func)\n\u001b[0;32m     52\u001b[0m \u001b[38;5;28;01mdef\u001b[39;00m \u001b[38;5;21mwrapper\u001b[39m(\u001b[38;5;241m*\u001b[39margs, \u001b[38;5;241m*\u001b[39m\u001b[38;5;241m*\u001b[39mkwargs):\n\u001b[0;32m     53\u001b[0m     check_types(spec, \u001b[38;5;241m*\u001b[39margs, \u001b[38;5;241m*\u001b[39m\u001b[38;5;241m*\u001b[39mkwargs)\n\u001b[1;32m---> 54\u001b[0m     \u001b[38;5;28;01mreturn\u001b[39;00m func(\u001b[38;5;241m*\u001b[39margs, \u001b[38;5;241m*\u001b[39m\u001b[38;5;241m*\u001b[39mkwargs)\n",
      "File \u001b[1;32mc:\\Users\\Luis\\AppData\\Local\\Programs\\Python\\Python310\\lib\\site-packages\\djitellopy\\tello.py:487\u001b[0m, in \u001b[0;36mTello.send_control_command\u001b[1;34m(self, command, timeout)\u001b[0m\n\u001b[0;32m    483\u001b[0m         \u001b[38;5;28;01mreturn\u001b[39;00m \u001b[38;5;28;01mTrue\u001b[39;00m\n\u001b[0;32m    485\u001b[0m     \u001b[38;5;28mself\u001b[39m\u001b[38;5;241m.\u001b[39mLOGGER\u001b[38;5;241m.\u001b[39mdebug(\u001b[38;5;124m\"\u001b[39m\u001b[38;5;124mCommand attempt #\u001b[39m\u001b[38;5;132;01m{}\u001b[39;00m\u001b[38;5;124m failed for command: \u001b[39m\u001b[38;5;124m'\u001b[39m\u001b[38;5;132;01m{}\u001b[39;00m\u001b[38;5;124m'\u001b[39m\u001b[38;5;124m\"\u001b[39m\u001b[38;5;241m.\u001b[39mformat(i, command))\n\u001b[1;32m--> 487\u001b[0m \u001b[38;5;28;43mself\u001b[39;49m\u001b[38;5;241;43m.\u001b[39;49m\u001b[43mraise_result_error\u001b[49m\u001b[43m(\u001b[49m\u001b[43mcommand\u001b[49m\u001b[43m,\u001b[49m\u001b[43m \u001b[49m\u001b[43mresponse\u001b[49m\u001b[43m)\u001b[49m\n\u001b[0;32m    488\u001b[0m \u001b[38;5;28;01mreturn\u001b[39;00m \u001b[38;5;28;01mFalse\u001b[39;00m\n",
      "File \u001b[1;32mc:\\Users\\Luis\\AppData\\Local\\Programs\\Python\\Python310\\lib\\site-packages\\djitellopy\\enforce_types.py:54\u001b[0m, in \u001b[0;36menforce_types.<locals>.decorate.<locals>.wrapper\u001b[1;34m(*args, **kwargs)\u001b[0m\n\u001b[0;32m     51\u001b[0m \u001b[38;5;129m@wraps\u001b[39m(func)\n\u001b[0;32m     52\u001b[0m \u001b[38;5;28;01mdef\u001b[39;00m \u001b[38;5;21mwrapper\u001b[39m(\u001b[38;5;241m*\u001b[39margs, \u001b[38;5;241m*\u001b[39m\u001b[38;5;241m*\u001b[39mkwargs):\n\u001b[0;32m     53\u001b[0m     check_types(spec, \u001b[38;5;241m*\u001b[39margs, \u001b[38;5;241m*\u001b[39m\u001b[38;5;241m*\u001b[39mkwargs)\n\u001b[1;32m---> 54\u001b[0m     \u001b[38;5;28;01mreturn\u001b[39;00m func(\u001b[38;5;241m*\u001b[39margs, \u001b[38;5;241m*\u001b[39m\u001b[38;5;241m*\u001b[39mkwargs)\n",
      "File \u001b[1;32mc:\\Users\\Luis\\AppData\\Local\\Programs\\Python\\Python310\\lib\\site-packages\\djitellopy\\tello.py:529\u001b[0m, in \u001b[0;36mTello.raise_result_error\u001b[1;34m(self, command, response)\u001b[0m\n\u001b[0;32m    525\u001b[0m \u001b[38;5;250m\u001b[39m\u001b[38;5;124;03m\"\"\"Used to reaise an error after an unsuccessful command\u001b[39;00m\n\u001b[0;32m    526\u001b[0m \u001b[38;5;124;03mInternal method, you normally wouldn't call this yourself.\u001b[39;00m\n\u001b[0;32m    527\u001b[0m \u001b[38;5;124;03m\"\"\"\u001b[39;00m\n\u001b[0;32m    528\u001b[0m tries \u001b[38;5;241m=\u001b[39m \u001b[38;5;241m1\u001b[39m \u001b[38;5;241m+\u001b[39m \u001b[38;5;28mself\u001b[39m\u001b[38;5;241m.\u001b[39mretry_count\n\u001b[1;32m--> 529\u001b[0m \u001b[38;5;28;01mraise\u001b[39;00m TelloException(\u001b[38;5;124m\"\u001b[39m\u001b[38;5;124mCommand \u001b[39m\u001b[38;5;124m'\u001b[39m\u001b[38;5;132;01m{}\u001b[39;00m\u001b[38;5;124m'\u001b[39m\u001b[38;5;124m was unsuccessful for \u001b[39m\u001b[38;5;132;01m{}\u001b[39;00m\u001b[38;5;124m tries. Latest response:\u001b[39m\u001b[38;5;130;01m\\t\u001b[39;00m\u001b[38;5;124m'\u001b[39m\u001b[38;5;132;01m{}\u001b[39;00m\u001b[38;5;124m'\u001b[39m\u001b[38;5;124m\"\u001b[39m\n\u001b[0;32m    530\u001b[0m                      \u001b[38;5;241m.\u001b[39mformat(command, tries, response))\n",
      "\u001b[1;31mTelloException\u001b[0m: Command 'forward 10' was unsuccessful for 4 tries. Latest response:\t'out of range'"
     ]
    }
   ],
   "source": [
    "tello.takeoff()\n",
    "\n",
    "while True:\n",
    "    rval, img = vc.read()\n",
    "    a = np.shape(img)\n",
    "    drone = frame_read.frame\n",
    "    drone =  cv2.cvtColor(drone,cv2.COLOR_BGR2RGB)\n",
    "    drone = cv2.resize(drone, cam_res)\n",
    "    #img = cv2.resize(img, cam_res)\n",
    "    plot = np.concatenate((img, drone), axis=1)\n",
    "    cv2.imshow(\"img\", plot)\n",
    "    \n",
    "    bol, res = get_sign(img)\n",
    "    key = cv2.waitKey(50) & 0xff\n",
    "    if key == ord(\" \"): #emergency\n",
    "        print(\"emergency\")\n",
    "        tello.emergency()\n",
    "        break\n",
    "\n",
    "    elif bol:\n",
    "        res = np.argmax(model(np.reshape(res, (1, res.shape[0]))))               \n",
    "\n",
    "        if res == 0: #right\n",
    "            tello.move_right(10)\n",
    "\n",
    "        elif res == 1: #left\n",
    "            tello.move_left(10)\n",
    "\n",
    "        elif res == 2: # up\n",
    "            tello.move_up(10)\n",
    "\n",
    "        elif res == 3: # down\n",
    "            tello.move_down(10)\n",
    "\n",
    "        elif res == 4: # fist = vorne\n",
    "            tello.move_forward(10)\n",
    "\n",
    "        elif res == 5: # hand = rückwerts\n",
    "            tello.move_back(10)\n",
    "\n",
    "        elif res == 6: # V = normal landing\n",
    "            tello.rotate_clockwise(10)\n",
    "            #print(\"normal landing\")\n",
    "          #  break\n",
    "\n",
    "print(\"finished\")\n",
    "#tello.land()\n",
    "\n"
   ]
  },
  {
   "cell_type": "markdown",
   "metadata": {},
   "source": [
    "Nr. 2 (with Threading)"
   ]
  },
  {
   "cell_type": "code",
   "execution_count": 8,
   "metadata": {},
   "outputs": [],
   "source": [
    "global finished\n",
    "global img\n",
    "finished = False\n",
    "img = False, 0\n",
    "\n",
    "# distance in cm 20-500\n",
    "\n",
    "def func():\n",
    "    d = 20\n",
    "    while not finished:\n",
    "        b, frame = img\n",
    "        if b:\n",
    "            bol, res = get_sign(frame)\n",
    "\n",
    "            if bol:\n",
    "                res = np.argmax(model(np.reshape(res, (1, res.shape[0]))))               \n",
    "\n",
    "                if res == 0: #right\n",
    "                    tello.move_right(d)\n",
    "\n",
    "                elif res == 1: #left\n",
    "                    tello.move_left(d)\n",
    "\n",
    "                elif res == 2: # up\n",
    "                    tello.move_up(d)\n",
    "\n",
    "                elif res == 3: # down\n",
    "                    tello.move_down(d)\n",
    "\n",
    "                elif res == 4: # fist = hoch\n",
    "                    tello.move_back(d)\n",
    "\n",
    "                elif res == 5: # hand = runter\n",
    "                    tello.move_forward(d)\n",
    "\n",
    "                elif res == 6: # V = rotate\n",
    "                    tello.rotate_clockwise(30)\n",
    "                    #print(\"normal landing\")\n",
    "                #  break\n",
    "        \n",
    "\n",
    "\n"
   ]
  },
  {
   "cell_type": "code",
   "execution_count": 10,
   "metadata": {},
   "outputs": [
    {
     "name": "stderr",
     "output_type": "stream",
     "text": [
      "[INFO] tello.py - 438 - Send command: 'takeoff'\n",
      "[INFO] tello.py - 462 - Response takeoff: 'ok'\n"
     ]
    },
    {
     "ename": "KeyboardInterrupt",
     "evalue": "",
     "output_type": "error",
     "traceback": [
      "\u001b[1;31m---------------------------------------------------------------------------\u001b[0m",
      "\u001b[1;31mKeyboardInterrupt\u001b[0m                         Traceback (most recent call last)",
      "Cell \u001b[1;32mIn[10], line 7\u001b[0m\n\u001b[0;32m      4\u001b[0m finished \u001b[38;5;241m=\u001b[39m \u001b[38;5;28;01mFalse\u001b[39;00m\n\u001b[0;32m      6\u001b[0m \u001b[38;5;28;01mwhile\u001b[39;00m \u001b[38;5;129;01mnot\u001b[39;00m finished:\n\u001b[1;32m----> 7\u001b[0m     rval, frame \u001b[38;5;241m=\u001b[39m \u001b[43mvc\u001b[49m\u001b[38;5;241;43m.\u001b[39;49m\u001b[43mread\u001b[49m\u001b[43m(\u001b[49m\u001b[43m)\u001b[49m\n\u001b[0;32m      8\u001b[0m     img \u001b[38;5;241m=\u001b[39m \u001b[38;5;28;01mTrue\u001b[39;00m, frame \n\u001b[0;32m      9\u001b[0m     key \u001b[38;5;241m=\u001b[39m cv2\u001b[38;5;241m.\u001b[39mwaitKey(\u001b[38;5;241m50\u001b[39m) \u001b[38;5;241m&\u001b[39m \u001b[38;5;241m0xff\u001b[39m\n",
      "\u001b[1;31mKeyboardInterrupt\u001b[0m: "
     ]
    }
   ],
   "source": [
    "tello.takeoff()\n",
    "t1 = threading.Thread(target=func, daemon=True)\n",
    "t1.start()\n",
    "finished = False\n",
    "\n",
    "while not finished:\n",
    "    rval, frame = vc.read()\n",
    "    img = True, frame \n",
    "    key = cv2.waitKey(50) & 0xff\n",
    "    if key == ord(\" \"):\n",
    "            print(\"landing\")\n",
    "            tello.land()\n",
    "            finished =True\n",
    "            t.sleep(1)\n",
    "    elif key == 27: #emergency ESC\n",
    "                print(\"emergency\")\n",
    "                tello.emergency()\n",
    "                finished = True\n",
    "                t.sleep(1)\n",
    "    \n",
    "    drone = frame_read.frame\n",
    "    drone =  cv2.cvtColor(drone,cv2.COLOR_BGR2RGB)\n",
    "    drone = cv2.resize(drone, cam_res)\n",
    "    new = np.concatenate((frame, drone), axis=1)\n",
    "    cv2.imshow(\"img\", new)\n",
    "\n",
    "print(\"finished\")\n",
    "\n"
   ]
  },
  {
   "cell_type": "code",
   "execution_count": 11,
   "metadata": {},
   "outputs": [
    {
     "name": "stderr",
     "output_type": "stream",
     "text": [
      "[INFO] tello.py - 438 - Send command: 'land'\n"
     ]
    }
   ],
   "source": [
    "tello.end()\n",
    "tello.reboot()"
   ]
  },
  {
   "cell_type": "markdown",
   "metadata": {},
   "source": [
    "get stats"
   ]
  },
  {
   "cell_type": "code",
   "execution_count": 137,
   "metadata": {},
   "outputs": [
    {
     "data": {
      "text/html": [
       "<div>\n",
       "<style scoped>\n",
       "    .dataframe tbody tr th:only-of-type {\n",
       "        vertical-align: middle;\n",
       "    }\n",
       "\n",
       "    .dataframe tbody tr th {\n",
       "        vertical-align: top;\n",
       "    }\n",
       "\n",
       "    .dataframe thead th {\n",
       "        text-align: right;\n",
       "    }\n",
       "</style>\n",
       "<table border=\"1\" class=\"dataframe\">\n",
       "  <thead>\n",
       "    <tr style=\"text-align: right;\">\n",
       "      <th></th>\n",
       "      <th>pitch</th>\n",
       "      <th>roll</th>\n",
       "      <th>yaw</th>\n",
       "      <th>vgx</th>\n",
       "      <th>vgy</th>\n",
       "      <th>vgz</th>\n",
       "      <th>templ</th>\n",
       "      <th>temph</th>\n",
       "      <th>tof</th>\n",
       "      <th>h</th>\n",
       "      <th>bat</th>\n",
       "      <th>baro</th>\n",
       "      <th>time</th>\n",
       "      <th>agx</th>\n",
       "      <th>agy</th>\n",
       "      <th>agz</th>\n",
       "    </tr>\n",
       "  </thead>\n",
       "  <tbody>\n",
       "    <tr>\n",
       "      <th>0</th>\n",
       "      <td>0</td>\n",
       "      <td>0</td>\n",
       "      <td>-37</td>\n",
       "      <td>0</td>\n",
       "      <td>0</td>\n",
       "      <td>0</td>\n",
       "      <td>92</td>\n",
       "      <td>36.0</td>\n",
       "      <td>10</td>\n",
       "      <td>0</td>\n",
       "      <td>50</td>\n",
       "      <td>254.83</td>\n",
       "      <td>68</td>\n",
       "      <td>-10.0</td>\n",
       "      <td>9.0</td>\n",
       "      <td>-998.0</td>\n",
       "    </tr>\n",
       "  </tbody>\n",
       "</table>\n",
       "</div>"
      ],
      "text/plain": [
       "   pitch  roll  yaw  vgx  vgy  vgz  templ  temph  tof  h  bat    baro  time  \\\n",
       "0      0     0  -37    0    0    0     92   36.0   10  0   50  254.83    68   \n",
       "\n",
       "    agx  agy    agz  \n",
       "0 -10.0  9.0 -998.0  "
      ]
     },
     "execution_count": 137,
     "metadata": {},
     "output_type": "execute_result"
    }
   ],
   "source": [
    "D = ((tello.get_current_state()))\n",
    "df = pd.DataFrame(D, index=[0])\n",
    "df[\"templ\"] = ((round((df[\"templ\"] -32)*5/9)))\n",
    "df[\"temph\"] = ((round((df[\"temph\"] -32)*5/9)))\n",
    "df.head()"
   ]
  },
  {
   "cell_type": "code",
   "execution_count": 6,
   "metadata": {},
   "outputs": [
    {
     "name": "stderr",
     "output_type": "stream",
     "text": [
      "[INFO] tello.py - 438 - Send command: 'land'\n",
      "[INFO] tello.py - 462 - Response land: 'ok'\n"
     ]
    }
   ],
   "source": [
    "tello.land()"
   ]
  },
  {
   "cell_type": "code",
   "execution_count": 13,
   "metadata": {},
   "outputs": [],
   "source": [
    "cv2.destroyAllWindows()\n",
    "vc.release()"
   ]
  },
  {
   "cell_type": "markdown",
   "metadata": {},
   "source": [
    "options"
   ]
  },
  {
   "cell_type": "code",
   "execution_count": null,
   "metadata": {},
   "outputs": [],
   "source": [
    "\n",
    "elif res == 6: # V = foto\n",
    "    print(\"bitte lächeln\")\n",
    "    num_pic += 1\n",
    "    cv2.imwrite(tello_img + \"foto\"+ str(num_pic) + \".jpg\",drone)\n",
    "\n",
    " elif res == 6: # V = normal landing\n",
    "        print(\"normal landing\")\n",
    "        tello.land()\n",
    "        break\n",
    "\n",
    "elif res == 8:\n",
    "    tello.flip(direction=)\n",
    "            "
   ]
  },
  {
   "cell_type": "markdown",
   "metadata": {},
   "source": [
    "better option"
   ]
  },
  {
   "cell_type": "code",
   "execution_count": null,
   "metadata": {},
   "outputs": [],
   "source": [
    "dist = 30 # distance in cm\n",
    "def func():\n",
    "    while not finished:\n",
    "        b, frame = img\n",
    "        if b:\n",
    "            bol, res = get_sign(frame)\n",
    "\n",
    "            if bol:\n",
    "                res = np.argmax(model(np.reshape(res, (1, res.shape[0]))))\n",
    "                if res < 4:\n",
    "                    res = signs[res] # 0 = right, 1 = left, 2 = up, 3 = down, 4 = fist, 5 = hand, 6 = V !!!! müssten noch unbennet werden in: up, down, left, right, forward or back\n",
    "                    tello.move(res,dist )#Tello fly up, down, left, right, forward or back with distance x cm\n",
    "                    \n",
    "                elif res == 6:\n",
    "                    tello.land()"
   ]
  }
 ],
 "metadata": {
  "kernelspec": {
   "display_name": "Python 3",
   "language": "python",
   "name": "python3"
  },
  "language_info": {
   "codemirror_mode": {
    "name": "ipython",
    "version": 3
   },
   "file_extension": ".py",
   "mimetype": "text/x-python",
   "name": "python",
   "nbconvert_exporter": "python",
   "pygments_lexer": "ipython3",
   "version": "3.10.11"
  }
 },
 "nbformat": 4,
 "nbformat_minor": 2
}
